{
  "nbformat": 4,
  "nbformat_minor": 0,
  "metadata": {
    "colab": {
      "name": "COVID-19 Detector",
      "provenance": [],
      "include_colab_link": true
    },
    "kernelspec": {
      "name": "python3",
      "display_name": "Python 3"
    },
    "accelerator": "GPU"
  },
  "cells": [
    {
      "cell_type": "markdown",
      "metadata": {
        "id": "view-in-github",
        "colab_type": "text"
      },
      "source": [
        "<a href=\"https://colab.research.google.com/github/aparna993/Capstone-Project/blob/main/COVID_19_Detector.ipynb\" target=\"_parent\"><img src=\"https://colab.research.google.com/assets/colab-badge.svg\" alt=\"Open In Colab\"/></a>"
      ]
    },
    {
      "cell_type": "code",
      "metadata": {
        "id": "klZeEzJSqUvQ"
      },
      "source": [
        "TRAIN_PATH = \"CovidDataset/Train\"\n",
        "VAL_PATH = \"CovidDataset/Test\"\n"
      ],
      "execution_count": null,
      "outputs": []
    },
    {
      "cell_type": "code",
      "metadata": {
        "id": "1s_VfacWrA-E"
      },
      "source": [
        "import numpy as np\n",
        "import matplotlib.pyplot as plt\n",
        "import keras\n",
        "from keras.layers import *\n",
        "from keras.models import * \n",
        "from keras.preprocessing import image"
      ],
      "execution_count": null,
      "outputs": []
    },
    {
      "cell_type": "code",
      "metadata": {
        "id": "2vRL0YMtrIsn"
      },
      "source": [
        "# CNN Based Model in Keras\n",
        "\n",
        "model = Sequential()\n",
        "model.add(Conv2D(32,kernel_size=(3,3),activation='relu',input_shape=(224,224,3)))\n",
        "model.add(Conv2D(64,(3,3),activation='relu'))\n",
        "model.add(MaxPooling2D(pool_size=(2,2)))\n",
        "model.add(Dropout(0.25))\n",
        "\n",
        "model.add(Conv2D(64,(3,3),activation='relu'))\n",
        "model.add(MaxPooling2D(pool_size=(2,2)))\n",
        "model.add(Dropout(0.25))\n",
        "\n",
        "model.add(Conv2D(128,(3,3),activation='relu'))\n",
        "model.add(MaxPooling2D(pool_size=(2,2)))\n",
        "model.add(Dropout(0.25))\n",
        "\n",
        "model.add(Flatten())\n",
        "model.add(Dense(64,activation='relu'))\n",
        "model.add(Dropout(0.5))\n",
        "model.add(Dense(1,activation='sigmoid'))\n",
        "\n",
        "model.compile(loss=keras.losses.binary_crossentropy,optimizer='adam',metrics=['accuracy'])"
      ],
      "execution_count": null,
      "outputs": []
    },
    {
      "cell_type": "code",
      "metadata": {
        "id": "gNxzu23Ouxcp",
        "colab": {
          "base_uri": "https://localhost:8080/"
        },
        "outputId": "c65e3f51-80d6-468a-d797-f1926d326af4"
      },
      "source": [
        "model.summary()"
      ],
      "execution_count": null,
      "outputs": [
        {
          "output_type": "stream",
          "text": [
            "Model: \"sequential\"\n",
            "_________________________________________________________________\n",
            "Layer (type)                 Output Shape              Param #   \n",
            "=================================================================\n",
            "conv2d (Conv2D)              (None, 222, 222, 32)      896       \n",
            "_________________________________________________________________\n",
            "conv2d_1 (Conv2D)            (None, 220, 220, 64)      18496     \n",
            "_________________________________________________________________\n",
            "max_pooling2d (MaxPooling2D) (None, 110, 110, 64)      0         \n",
            "_________________________________________________________________\n",
            "dropout (Dropout)            (None, 110, 110, 64)      0         \n",
            "_________________________________________________________________\n",
            "conv2d_2 (Conv2D)            (None, 108, 108, 64)      36928     \n",
            "_________________________________________________________________\n",
            "max_pooling2d_1 (MaxPooling2 (None, 54, 54, 64)        0         \n",
            "_________________________________________________________________\n",
            "dropout_1 (Dropout)          (None, 54, 54, 64)        0         \n",
            "_________________________________________________________________\n",
            "conv2d_3 (Conv2D)            (None, 52, 52, 128)       73856     \n",
            "_________________________________________________________________\n",
            "max_pooling2d_2 (MaxPooling2 (None, 26, 26, 128)       0         \n",
            "_________________________________________________________________\n",
            "dropout_2 (Dropout)          (None, 26, 26, 128)       0         \n",
            "_________________________________________________________________\n",
            "flatten (Flatten)            (None, 86528)             0         \n",
            "_________________________________________________________________\n",
            "dense (Dense)                (None, 64)                5537856   \n",
            "_________________________________________________________________\n",
            "dropout_3 (Dropout)          (None, 64)                0         \n",
            "_________________________________________________________________\n",
            "dense_1 (Dense)              (None, 1)                 65        \n",
            "=================================================================\n",
            "Total params: 5,668,097\n",
            "Trainable params: 5,668,097\n",
            "Non-trainable params: 0\n",
            "_________________________________________________________________\n"
          ],
          "name": "stdout"
        }
      ]
    },
    {
      "cell_type": "code",
      "metadata": {
        "id": "2nnojiosu2YM"
      },
      "source": [
        "# Train from scratch\n",
        "train_datagen = image.ImageDataGenerator(\n",
        "    rescale = 1./255,\n",
        "    shear_range = 0.2,\n",
        "    zoom_range = 0.2,\n",
        "    horizontal_flip = True,\n",
        ")\n",
        "\n",
        "test_dataset = image.ImageDataGenerator(rescale=1./255)"
      ],
      "execution_count": null,
      "outputs": []
    },
    {
      "cell_type": "code",
      "metadata": {
        "id": "iLC3vWiHv2s8",
        "colab": {
          "base_uri": "https://localhost:8080/"
        },
        "outputId": "e5d59922-869e-4ec6-f09a-742a0be8cb58"
      },
      "source": [
        "train_generator = train_datagen.flow_from_directory(\n",
        "    'CovidDataset/Train',\n",
        "    target_size = (224,224),\n",
        "    batch_size = 32,\n",
        "    class_mode = 'binary')\n"
      ],
      "execution_count": null,
      "outputs": [
        {
          "output_type": "stream",
          "text": [
            "Found 224 images belonging to 2 classes.\n"
          ],
          "name": "stdout"
        }
      ]
    },
    {
      "cell_type": "code",
      "metadata": {
        "id": "q_ov9LTgwQSg",
        "colab": {
          "base_uri": "https://localhost:8080/"
        },
        "outputId": "7bc79c61-1982-47c7-9d7b-0be8f5fbb12b"
      },
      "source": [
        "train_generator.class_indices"
      ],
      "execution_count": null,
      "outputs": [
        {
          "output_type": "execute_result",
          "data": {
            "text/plain": [
              "{'Covid': 0, 'Normal': 1}"
            ]
          },
          "metadata": {
            "tags": []
          },
          "execution_count": 10
        }
      ]
    },
    {
      "cell_type": "code",
      "metadata": {
        "id": "0RQ5LeuQwmxj",
        "colab": {
          "base_uri": "https://localhost:8080/"
        },
        "outputId": "0928fda4-047b-4187-d22b-12be83607bf0"
      },
      "source": [
        "validation_generator = test_dataset.flow_from_directory(\n",
        "    'CovidDataset/Val',\n",
        "    target_size = (224,224),\n",
        "    batch_size = 32,\n",
        "    class_mode = 'binary')"
      ],
      "execution_count": null,
      "outputs": [
        {
          "output_type": "stream",
          "text": [
            "Found 60 images belonging to 2 classes.\n"
          ],
          "name": "stdout"
        }
      ]
    },
    {
      "cell_type": "code",
      "metadata": {
        "id": "pGuVlZF5wZsh",
        "colab": {
          "base_uri": "https://localhost:8080/"
        },
        "outputId": "ed610697-2d9f-4028-9f75-2d43db036c05"
      },
      "source": [
        "history = model.fit_generator(\n",
        "    train_generator,\n",
        "    # steps_per_epoch=8\n",
        "    epochs = 10,\n",
        "    validation_data = validation_generator,\n",
        "    validation_steps = 2\n",
        ")"
      ],
      "execution_count": null,
      "outputs": [
        {
          "output_type": "stream",
          "text": [
            "Epoch 1/10\n",
            "7/7 [==============================] - 10s 1s/step - loss: 0.1237 - accuracy: 0.9643 - val_loss: 0.0718 - val_accuracy: 0.9667\n",
            "Epoch 2/10\n",
            "7/7 [==============================] - 9s 1s/step - loss: 0.1220 - accuracy: 0.9643 - val_loss: 0.0526 - val_accuracy: 0.9833\n",
            "Epoch 3/10\n",
            "7/7 [==============================] - 9s 1s/step - loss: 0.0570 - accuracy: 0.9777 - val_loss: 0.0837 - val_accuracy: 0.9667\n",
            "Epoch 4/10\n",
            "7/7 [==============================] - 9s 1s/step - loss: 0.1705 - accuracy: 0.9420 - val_loss: 0.0735 - val_accuracy: 0.9500\n",
            "Epoch 5/10\n",
            "7/7 [==============================] - 9s 1s/step - loss: 0.0943 - accuracy: 0.9420 - val_loss: 0.0947 - val_accuracy: 0.9667\n",
            "Epoch 6/10\n",
            "7/7 [==============================] - 8s 1s/step - loss: 0.0906 - accuracy: 0.9688 - val_loss: 0.0684 - val_accuracy: 0.9667\n",
            "Epoch 7/10\n",
            "7/7 [==============================] - 8s 1s/step - loss: 0.0695 - accuracy: 0.9688 - val_loss: 0.0549 - val_accuracy: 0.9500\n",
            "Epoch 8/10\n",
            "7/7 [==============================] - 9s 1s/step - loss: 0.0736 - accuracy: 0.9732 - val_loss: 0.0610 - val_accuracy: 0.9667\n",
            "Epoch 9/10\n",
            "7/7 [==============================] - 8s 1s/step - loss: 0.0418 - accuracy: 0.9866 - val_loss: 0.0526 - val_accuracy: 0.9667\n",
            "Epoch 10/10\n",
            "7/7 [==============================] - 8s 1s/step - loss: 0.0922 - accuracy: 0.9598 - val_loss: 0.0535 - val_accuracy: 0.9667\n"
          ],
          "name": "stdout"
        }
      ]
    },
    {
      "cell_type": "code",
      "metadata": {
        "colab": {
          "base_uri": "https://localhost:8080/",
          "height": 591
        },
        "id": "iBiSTLDvkQL5",
        "outputId": "f820c301-672c-49d5-b70b-ec645fc70f67"
      },
      "source": [
        "# list all data in history\n",
        "print(history.history.keys())\n",
        "# summarize history for accuracy\n",
        "plt.plot(history.history['accuracy'])\n",
        "plt.plot(history.history['val_accuracy'])\n",
        "plt.title('model accuracy')\n",
        "plt.ylabel('accuracy')\n",
        "plt.xlabel('epoch')\n",
        "plt.legend(['train', 'test'], loc='upper left')\n",
        "plt.show()\n",
        "# summarize history for loss\n",
        "plt.plot(history.history['loss'])\n",
        "plt.plot(history.history['val_loss'])\n",
        "plt.title('model loss')\n",
        "plt.ylabel('loss')\n",
        "plt.xlabel('epoch')\n",
        "plt.legend(['train', 'test'], loc='upper left')\n",
        "plt.show()"
      ],
      "execution_count": null,
      "outputs": [
        {
          "output_type": "stream",
          "text": [
            "dict_keys(['loss', 'accuracy', 'val_loss', 'val_accuracy'])\n"
          ],
          "name": "stdout"
        },
        {
          "output_type": "display_data",
          "data": {
            "image/png": "[encoded data removed]",
            "text/plain": [
              "<Figure size 432x288 with 1 Axes>"
            ]
          },
          "metadata": {
            "tags": [],
            "needs_background": "light"
          }
        },
        {
          "output_type": "display_data",
          "data": {
            "image/png": "[encoded data removed]",
            "text/plain": [
              "<Figure size 432x288 with 1 Axes>"
            ]
          },
          "metadata": {
            "tags": [],
            "needs_background": "light"
          }
        }
      ]
    }
  ]
}